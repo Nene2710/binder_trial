{
 "cells": [
  {
   "cell_type": "code",
   "execution_count": 1,
   "metadata": {},
   "outputs": [],
   "source": [
    "import numpy as np \n",
    "\n",
    "\n",
    "import matplotlib.pyplot as plt\n",
    "\n",
    "import pickle\n",
    "\n",
    "\n",
    "\n",
    "import os, sys\n",
    "rootpath = os.path.join(os.getcwd(), '..')\n",
    "sys.path.append(rootpath)\n",
    "\n",
    "\n",
    "from scipy.sparse import diags, coo_matrix\n",
    "from scipy import sparse\n",
    "import jax.numpy as jnp\n",
    "\n",
    "import jax\n",
    "from jax import lax, vmap, jit\n",
    "import jax.random as random\n",
    "from jax.experimental import sparse\n"
   ]
  },
  {
   "cell_type": "code",
   "execution_count": 5,
   "metadata": {},
   "outputs": [],
   "source": [
    "\n",
    "def FHN_step(u, v, N, a, b, e, sigma, key, delta_t):\n",
    "    '''\n",
    "    Perform a single step of the noisy FitzHugh-Nagumo model.\n",
    "    Parameters:\n",
    "    - u: state variable u\n",
    "    - v: state variable v\n",
    "    - N: number of nodes\n",
    "    - a: parameter a\n",
    "    - b: parameter b\n",
    "    - e: parameter e giving the timescale separation between u and v\n",
    "    - Du: Diffusion coefficient\n",
    "    - sigma: noise intensity\n",
    "    - L: Laplacian matrix\n",
    "    - key: random key for noise generation\n",
    "    - delta_t: time step\n",
    "    Returns:\n",
    "    - u_new: updated state variable u\n",
    "    - v_new: updated state variable v\n",
    "    '''\n",
    "    # Generate Gaussian noise for each element of h\n",
    "    noise = random.normal(key, u.shape)\n",
    "    \n",
    "    du = a * u * (u - b) * (1 - u)  - v \n",
    "    dv = e * (u - v)\n",
    "    u_new = u + du * delta_t + jnp.sqrt(delta_t * sigma**2) * noise\n",
    "    v_new = v + dv * delta_t\n",
    "\n",
    "    return u_new, v_new\n",
    "\n",
    "def run_simulation(N, y0='wave', a=3, b=0.05, e=1e-2, Du=0.04,  sigma=0.0001, stimulus_time=1000, delta_t=0.1, total_time=3000.0, Nconf=3000, key=random.PRNGKey(2)):\n",
    "\n",
    "    # Calculate the number of steps based on the total time and delta_t\n",
    "    num_steps = int(total_time / delta_t)\n",
    "    save_interval = num_steps // Nconf\n",
    "    \n",
    "    # Initialize state variables\n",
    "    u = y0[:N]\n",
    "    v = y0[N:]\n",
    "\n",
    "    def scan_fn(carry, step):\n",
    "        u, v, key, save_counter, u_saved, v_saved = carry\n",
    "        key, subkey = random.split(key)\n",
    "        \n",
    "\n",
    "        u, v = FHN_step(u, v, N, a, b, e, sigma, subkey, delta_t)\n",
    "        \n",
    "        # Save the configuration at the specified intervals\n",
    "        save_counter = save_counter + 1\n",
    "        u_saved = jax.lax.cond(save_counter % save_interval == 0,\n",
    "                               lambda u_saved: u_saved.at[save_counter // save_interval - 1].set(u),\n",
    "                               lambda u_saved: u_saved,\n",
    "                               u_saved)\n",
    "        v_saved = jax.lax.cond(save_counter % save_interval == 0,\n",
    "                               lambda v_saved: v_saved.at[save_counter // save_interval - 1].set(v),\n",
    "                               lambda v_saved: v_saved,\n",
    "                               v_saved)\n",
    "        \n",
    "        return (u, v, key, save_counter, u_saved, v_saved), (u, v)\n",
    "\n",
    "    # Preallocate arrays for saved configurations\n",
    "    u_saved = jnp.zeros((Nconf, N), dtype=jnp.float32)\n",
    "    v_saved = jnp.zeros((Nconf, N), dtype=jnp.float32)\n",
    "    \n",
    "    # Create a range of steps\n",
    "    steps = jnp.arange(num_steps)\n",
    "    \n",
    "    # Run the scan function\n",
    "    carry = (u, v, key, 0, u_saved, v_saved)\n",
    "    carry, _ = lax.scan(scan_fn, carry, steps)\n",
    "\n",
    "    u_saved = carry[4]\n",
    "    v_saved = carry[5]\n",
    "\n",
    "    return u_saved, v_saved"
   ]
  },
  {
   "cell_type": "code",
   "execution_count": 7,
   "metadata": {},
   "outputs": [],
   "source": [
    "N=1\n",
    "y0=[0.1,0]\n",
    "y0=jnp.array(y0)\n",
    "u_sol, v_sol = run_simulation(N=N, sigma=0.0001,y0=y0, key=random.PRNGKey(2),delta_t=0.1, total_time=6500, stimulus_time=500, Nconf=6500)\n",
    "u_sol=u_sol.T\n",
    "\n"
   ]
  },
  {
   "cell_type": "code",
   "execution_count": 12,
   "metadata": {},
   "outputs": [
    {
     "data": {
      "text/plain": [
       "[<matplotlib.lines.Line2D at 0x1e3ad4e52b0>]"
      ]
     },
     "execution_count": 12,
     "metadata": {},
     "output_type": "execute_result"
    },
    {
     "data": {
      "image/png": "[encoded data removed]",
      "text/plain": [
       "<Figure size 640x480 with 1 Axes>"
      ]
     },
     "metadata": {},
     "output_type": "display_data"
    }
   ],
   "source": [
    "plt.plot(u_sol[1])"
   ]
  },
  {
   "cell_type": "code",
   "execution_count": null,
   "metadata": {},
   "outputs": [],
   "source": []
  }
 ],
 "metadata": {
  "kernelspec": {
   "display_name": "base",
   "language": "python",
   "name": "python3"
  },
  "language_info": {
   "codemirror_mode": {
    "name": "ipython",
    "version": 3
   },
   "file_extension": ".py",
   "mimetype": "text/x-python",
   "name": "python",
   "nbconvert_exporter": "python",
   "pygments_lexer": "ipython3",
   "version": "3.9.13"
  }
 },
 "nbformat": 4,
 "nbformat_minor": 2
}
